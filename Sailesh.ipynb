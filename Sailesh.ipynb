{
 "cells": [
  {
   "cell_type": "code",
   "execution_count": 3,
   "metadata": {},
   "outputs": [
    {
     "ename": "IndentationError",
     "evalue": "expected an indented block (<ipython-input-3-722f7390368c>, line 51)",
     "output_type": "error",
     "traceback": [
      "\u001b[1;36m  File \u001b[1;32m\"<ipython-input-3-722f7390368c>\"\u001b[1;36m, line \u001b[1;32m51\u001b[0m\n\u001b[1;33m    '''\u001b[0m\n\u001b[1;37m       \n^\u001b[0m\n\u001b[1;31mIndentationError\u001b[0m\u001b[1;31m:\u001b[0m expected an indented block\n"
     ]
    }
   ],
   "source": []
  },
  {
   "cell_type": "markdown",
   "metadata": {},
   "source": [
    "### Explanation of what is happening \n",
    "\n",
    "+ Our function takes an input called training data.\n",
    "+ The training data is defined at the bottom of the screen in the file your professor gave you\n",
    " + rnd_x is an array which represents all of the features of an observation\n",
    "     + if you need to know what features are I try to explain that below\n",
    " + rnd_y is the label for this observation\n",
    "     + if you want to understand what a label or target is, I explain that below as well\n",
    "\n",
    "### What does this all mean?\n",
    "+ Imagine you have spreadsheet with rows of observations.  Each observation(row)is a person.  \n",
    "+ In each row we have columns describing traits of the person (I.E Height,height, gender)..these are our independent variables or our features \n",
    "+ Then we have a column which is either 1,0 and it tells us if person got a loan. This is our target \n",
    "\n",
    "### So dataaset would look like this\n",
    "+ I use your professors input to rebuild what this file would look like so you can get a sense of where we are starting\n",
    "+ So because the data your professor gave you is numeric I labeled those features as weight and height.  The last column is numeric, but as you will learn when you are coding binary categorical variables(can explain if you need just ask) we label them 1 and 0 typically.  Your professor gave you an entire column of 1.0, so i called it gender...Just Imagine 1.0 means everyone is a male in this dataset \n"
   ]
  },
  {
   "cell_type": "code",
   "execution_count": 16,
   "metadata": {},
   "outputs": [],
   "source": [
    "import pandas as pd\n",
    "\n",
    "## your pforessor prvides this at the bottom\n",
    "## Do you understand how arrays work?\n",
    "rnd_x = np.array([[0,1,1],\\\n",
    "                  [0.6,0.6,1],\\\n",
    "                  [1,0,1],\\\n",
    "                  [1,1,1],\\\n",
    "                  [0.3,0.4,1],\\\n",
    "                  [0.2,0.3,1],\\\n",
    "                  [0.1,0.4,1],\\\n",
    "                  [0.5,-0.1,1]])\n",
    "\n",
    "rnd_y = np.array([1,1,1,1,-1,-1,-1,-1])\n",
    "#newArray = np.concatenate((rnd_x, rnd_y))\n",
    "\n",
    "## Create df \n",
    "our_data = pd.DataFrame(rnd_x)\n",
    "\n",
    "our_data.columns = ['Height','weight','Gender']\n",
    "our_data[\"Loan_sucess\"] = rnd_y"
   ]
  },
  {
   "cell_type": "code",
   "execution_count": 17,
   "metadata": {},
   "outputs": [
    {
     "data": {
      "text/html": [
       "<div>\n",
       "<style scoped>\n",
       "    .dataframe tbody tr th:only-of-type {\n",
       "        vertical-align: middle;\n",
       "    }\n",
       "\n",
       "    .dataframe tbody tr th {\n",
       "        vertical-align: top;\n",
       "    }\n",
       "\n",
       "    .dataframe thead th {\n",
       "        text-align: right;\n",
       "    }\n",
       "</style>\n",
       "<table border=\"1\" class=\"dataframe\">\n",
       "  <thead>\n",
       "    <tr style=\"text-align: right;\">\n",
       "      <th></th>\n",
       "      <th>Height</th>\n",
       "      <th>weight</th>\n",
       "      <th>Gender</th>\n",
       "      <th>Loan_sucess</th>\n",
       "    </tr>\n",
       "  </thead>\n",
       "  <tbody>\n",
       "    <tr>\n",
       "      <th>0</th>\n",
       "      <td>0.0</td>\n",
       "      <td>1.0</td>\n",
       "      <td>1.0</td>\n",
       "      <td>1</td>\n",
       "    </tr>\n",
       "    <tr>\n",
       "      <th>1</th>\n",
       "      <td>0.6</td>\n",
       "      <td>0.6</td>\n",
       "      <td>1.0</td>\n",
       "      <td>1</td>\n",
       "    </tr>\n",
       "    <tr>\n",
       "      <th>2</th>\n",
       "      <td>1.0</td>\n",
       "      <td>0.0</td>\n",
       "      <td>1.0</td>\n",
       "      <td>1</td>\n",
       "    </tr>\n",
       "    <tr>\n",
       "      <th>3</th>\n",
       "      <td>1.0</td>\n",
       "      <td>1.0</td>\n",
       "      <td>1.0</td>\n",
       "      <td>1</td>\n",
       "    </tr>\n",
       "    <tr>\n",
       "      <th>4</th>\n",
       "      <td>0.3</td>\n",
       "      <td>0.4</td>\n",
       "      <td>1.0</td>\n",
       "      <td>-1</td>\n",
       "    </tr>\n",
       "    <tr>\n",
       "      <th>5</th>\n",
       "      <td>0.2</td>\n",
       "      <td>0.3</td>\n",
       "      <td>1.0</td>\n",
       "      <td>-1</td>\n",
       "    </tr>\n",
       "    <tr>\n",
       "      <th>6</th>\n",
       "      <td>0.1</td>\n",
       "      <td>0.4</td>\n",
       "      <td>1.0</td>\n",
       "      <td>-1</td>\n",
       "    </tr>\n",
       "    <tr>\n",
       "      <th>7</th>\n",
       "      <td>0.5</td>\n",
       "      <td>-0.1</td>\n",
       "      <td>1.0</td>\n",
       "      <td>-1</td>\n",
       "    </tr>\n",
       "  </tbody>\n",
       "</table>\n",
       "</div>"
      ],
      "text/plain": [
       "   Height  weight  Gender  Loan_sucess\n",
       "0     0.0     1.0     1.0            1\n",
       "1     0.6     0.6     1.0            1\n",
       "2     1.0     0.0     1.0            1\n",
       "3     1.0     1.0     1.0            1\n",
       "4     0.3     0.4     1.0           -1\n",
       "5     0.2     0.3     1.0           -1\n",
       "6     0.1     0.4     1.0           -1\n",
       "7     0.5    -0.1     1.0           -1"
      ]
     },
     "execution_count": 17,
     "metadata": {},
     "output_type": "execute_result"
    }
   ],
   "source": [
    "our_data"
   ]
  },
  {
   "cell_type": "markdown",
   "metadata": {},
   "source": [
    "So this is what our data looks like.  Typically we would now break it down by extracting Loan_sucess which is our target, and the other characteristics.  But your professor is starting with these already broken down. What the algoithm does, is it will look at how we can accurately classify each of these observations as either 1, -1 given Height weight and Gender.  It will do that by adding weights to the features one at a time and continue until everyone of the features is properly classified.    \n",
    "\n",
    "## the algorithm and your homework\n",
    "+ Ill try to build out the algorithm tonight, but just wanted to give you an overview of what is happening here so you can grasp conceptually what we are doing here.  I was unsure if you knew all of this, so i apologize if this was all easy. "
   ]
  },
  {
   "cell_type": "code",
   "execution_count": null,
   "metadata": {},
   "outputs": [],
   "source": []
  }
 ],
 "metadata": {
  "kernelspec": {
   "display_name": "Python 3",
   "language": "python",
   "name": "python3"
  },
  "language_info": {
   "codemirror_mode": {
    "name": "ipython",
    "version": 3
   },
   "file_extension": ".py",
   "mimetype": "text/x-python",
   "name": "python",
   "nbconvert_exporter": "python",
   "pygments_lexer": "ipython3",
   "version": "3.7.1"
  },
  "latex_envs": {
   "LaTeX_envs_menu_present": true,
   "autoclose": false,
   "autocomplete": true,
   "bibliofile": "biblio.bib",
   "cite_by": "apalike",
   "current_citInitial": 1,
   "eqLabelWithNumbers": true,
   "eqNumInitial": 1,
   "hotkeys": {
    "equation": "Ctrl-E",
    "itemize": "Ctrl-I"
   },
   "labels_anchors": false,
   "latex_user_defs": false,
   "report_style_numbering": false,
   "user_envs_cfg": false
  },
  "toc": {
   "base_numbering": 1,
   "nav_menu": {},
   "number_sections": true,
   "sideBar": true,
   "skip_h1_title": false,
   "title_cell": "Table of Contents",
   "title_sidebar": "Contents",
   "toc_cell": false,
   "toc_position": {},
   "toc_section_display": true,
   "toc_window_display": false
  },
  "varInspector": {
   "cols": {
    "lenName": 16,
    "lenType": 16,
    "lenVar": 40
   },
   "kernels_config": {
    "python": {
     "delete_cmd_postfix": "",
     "delete_cmd_prefix": "del ",
     "library": "var_list.py",
     "varRefreshCmd": "print(var_dic_list())"
    },
    "r": {
     "delete_cmd_postfix": ") ",
     "delete_cmd_prefix": "rm(",
     "library": "var_list.r",
     "varRefreshCmd": "cat(var_dic_list()) "
    }
   },
   "types_to_exclude": [
    "module",
    "function",
    "builtin_function_or_method",
    "instance",
    "_Feature"
   ],
   "window_display": true
  }
 },
 "nbformat": 4,
 "nbformat_minor": 2
}
